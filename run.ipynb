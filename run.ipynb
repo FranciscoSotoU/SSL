{
 "cells": [
  {
   "cell_type": "code",
   "execution_count": 8,
   "metadata": {},
   "outputs": [],
   "source": [
    "from light_curve import LightCurve\n",
    "import joblib\n",
    "from torch.utils.data import Dataset, DataLoader\n",
    "import numpy as np\n",
    "import torch\n",
    "from torchvision import transforms\n",
    "import aug\n",
    "import random\n",
    "import pandas as pd\n",
    "from sklearn.model_selection import train_test_split\n",
    "import torch.nn as nn\n",
    "from sklearn.metrics import accuracy_score, confusion_matrix, classification_report, ConfusionMatrixDisplay\n",
    "\n",
    "from keras.utils.np_utils import to_categorical"
   ]
  },
  {
   "attachments": {},
   "cell_type": "markdown",
   "metadata": {},
   "source": [
    "## Dataset\n"
   ]
  },
  {
   "cell_type": "code",
   "execution_count": 9,
   "metadata": {},
   "outputs": [],
   "source": [
    "path_macho = '/home/francisco/Documents/SSL/data/macho/full.pkl'\n",
    "data_macho = joblib.load(path_macho)\n",
    "path_asas = '/home/francisco/Documents/SSL/data/asas/full.pkl'\n",
    "data_asas = joblib.load(path_asas)\n",
    "path_linear = '/home/francisco/Documents/SSL/data/linear/full.pkl'\n",
    "data_linear = joblib.load(path_linear)"
   ]
  },
  {
   "attachments": {},
   "cell_type": "markdown",
   "metadata": {},
   "source": [
    "## Cargar datos,period fold y normalizacion"
   ]
  },
  {
   "cell_type": "code",
   "execution_count": 10,
   "metadata": {},
   "outputs": [],
   "source": [
    "#i=np.load('/Users/francisco/Documents/data/asas/light_curves.npz',allow_pickle=True)\n",
    "#n=i['light_curves']"
   ]
  },
  {
   "cell_type": "code",
   "execution_count": null,
   "metadata": {},
   "outputs": [],
   "source": []
  },
  {
   "cell_type": "code",
   "execution_count": 11,
   "metadata": {},
   "outputs": [],
   "source": [
    "#classnames, y_inds = np.unique([str(label) for label in l],return_inverse=True)\n",
    "#Y = to_categorical(y_inds, len(classnames))\n"
   ]
  },
  {
   "cell_type": "code",
   "execution_count": 12,
   "metadata": {},
   "outputs": [],
   "source": [
    "#Y_lab = [list(np.where(x==1))[0][0] for x in Y]"
   ]
  },
  {
   "cell_type": "code",
   "execution_count": 13,
   "metadata": {},
   "outputs": [],
   "source": [
    "#print(Y_lab)"
   ]
  },
  {
   "cell_type": "code",
   "execution_count": 14,
   "metadata": {},
   "outputs": [],
   "source": [
    "all_data = data_macho + data_asas + data_linear"
   ]
  },
  {
   "cell_type": "code",
   "execution_count": 15,
   "metadata": {},
   "outputs": [
    {
     "data": {
      "text/plain": [
       "76761"
      ]
     },
     "execution_count": 15,
     "metadata": {},
     "output_type": "execute_result"
    }
   ],
   "source": [
    "len(all_data)"
   ]
  },
  {
   "cell_type": "code",
   "execution_count": 16,
   "metadata": {},
   "outputs": [],
   "source": [
    "max_value = max([lc.max_value() for lc in all_data])\n",
    "min_value = min([lc.min_value() for lc in all_data])"
   ]
  },
  {
   "cell_type": "code",
   "execution_count": null,
   "metadata": {},
   "outputs": [],
   "source": []
  },
  {
   "cell_type": "code",
   "execution_count": 17,
   "metadata": {},
   "outputs": [
    {
     "name": "stderr",
     "output_type": "stream",
     "text": [
      "/tmp/ipykernel_14777/1791650327.py:5: VisibleDeprecationWarning: Creating an ndarray from ragged nested sequences (which is a list-or-tuple of lists-or-tuples-or ndarrays with different lengths or shapes) is deprecated. If you meant to do this, you must specify 'dtype=object' when creating the ndarray.\n",
      "  X_t = np.array(data_raw).transpose()\n"
     ]
    }
   ],
   "source": [
    "for lc in all_data:\n",
    "    lc.normalize(min_value,max_value)\n",
    "    lc.period_fold()\n",
    "data_raw = [[lc.times,lc.measurements] for lc in all_data]\n",
    "X_t = np.array(data_raw).transpose()\n",
    "\n"
   ]
  },
  {
   "cell_type": "code",
   "execution_count": 18,
   "metadata": {},
   "outputs": [],
   "source": [
    "from scipy.signal import resample"
   ]
  },
  {
   "cell_type": "code",
   "execution_count": 19,
   "metadata": {},
   "outputs": [],
   "source": [
    "M_padded = [resample(x,500) for x in X_t[0]]\n",
    "T_padded = [resample(x,500) for x in X_t[1]]"
   ]
  },
  {
   "cell_type": "code",
   "execution_count": 20,
   "metadata": {},
   "outputs": [],
   "source": [
    "X = np.array([[M_padded[i],T_padded[i]] for i in range(len(M_padded))])"
   ]
  },
  {
   "cell_type": "code",
   "execution_count": 21,
   "metadata": {},
   "outputs": [
    {
     "data": {
      "text/plain": [
       "76761"
      ]
     },
     "execution_count": 21,
     "metadata": {},
     "output_type": "execute_result"
    }
   ],
   "source": [
    "len(X)"
   ]
  },
  {
   "cell_type": "code",
   "execution_count": 22,
   "metadata": {},
   "outputs": [],
   "source": [
    "\n",
    "classnames, y_inds = np.unique([str(lc.label) for lc in all_data],return_inverse=True)\n",
    "Y = to_categorical(y_inds, len(classnames))\n",
    "\n",
    "Y_lab = [list(np.where(p==1))[0][0] for p in Y]"
   ]
  },
  {
   "attachments": {},
   "cell_type": "markdown",
   "metadata": {},
   "source": [
    "## Training Encoder"
   ]
  },
  {
   "cell_type": "code",
   "execution_count": 23,
   "metadata": {},
   "outputs": [],
   "source": [
    "def train_epoch(model, dataloader, loss_function, optimizer):\n",
    "  \"\"\"Funcion para realizar el entrenamiento de una epoca\n",
    "    Inputs\n",
    "    -------\n",
    "    model : torch.model\n",
    "      modelo a entrenar\n",
    "    dataloader: torch.dataloader\n",
    "      datos con los cuales se entrena\n",
    "    loss_function: torch.loss_fn\n",
    "      funcion de perdida para el entrenamiento(entropia cruzada)\n",
    "    optimizer: torch.optimizer\n",
    "      funcion de optimizacion(adam)\n",
    "    Returns\n",
    "    -------\n",
    "    list:\n",
    "    entrega un tensor con los valores de ouputs entrenamiento, labels y losses\n",
    "  \"\"\"\n",
    "  model.train()\n",
    "  train_outputs = []\n",
    "  train_labels = []\n",
    "  train_losses = []\n",
    "\n",
    "  for i,data in enumerate(dataloader):\n",
    "    targets = data[1].cpu()\n",
    "    sample = data[0].float().cpu()\n",
    "\n",
    "    batch_size = targets.shape[0]\n",
    "\n",
    "    outputs = model(sample)\n",
    "    loss = loss_function(outputs, targets)\n",
    "    loss.backward()\n",
    "    optimizer.step()\n",
    "    optimizer.zero_grad()\n",
    "\n",
    "    train_losses.append(loss.item()*batch_size)\n",
    "    train_outputs.append(outputs.detach())\n",
    "    train_labels.append(targets.detach())\n",
    "\n",
    "  return torch.tensor(train_losses), torch.cat(train_outputs), torch.cat(train_labels)"
   ]
  },
  {
   "cell_type": "code",
   "execution_count": 24,
   "metadata": {},
   "outputs": [],
   "source": [
    "def val_epoch(model, dataloader, loss_function):\n",
    "  \"\"\"Funcion para realizar la validacion de una epoca\n",
    "    Inputs\n",
    "    -------\n",
    "    model : torch.model\n",
    "      modelo a entrenar\n",
    "    dataloader: torch.dataloader\n",
    "      datos con los cuales se entrena\n",
    "    loss_function: torch.loss_fn\n",
    "      funcion de perdida para el entrenamiento(entropia cruzada)\n",
    "    Returns\n",
    "    -------\n",
    "    list:\n",
    "    entrega un tensor con los valores de ouputs validacion, labels y losses\n",
    "  \"\"\"\n",
    "  model.eval()\n",
    "  val_outputs= []\n",
    "  val_labels = []\n",
    "  val_losses = []\n",
    "\n",
    "  with torch.no_grad():\n",
    "    for i,data in enumerate(dataloader):\n",
    "      targets = data[1].cpu()\n",
    "      sample = data[0].float().cpu()\n",
    "\n",
    "      batch_size = targets.shape[0]\n",
    "\n",
    "      outputs = model(sample)\n",
    "\n",
    "      loss = loss_function(outputs, targets)\n",
    "\n",
    "      val_losses.append(loss.item()*batch_size)\n",
    "      val_outputs.append(outputs.detach())\n",
    "      val_labels.append(targets.detach())\n",
    "\n",
    "  return torch.tensor(val_losses), torch.cat(val_outputs), torch.cat(val_labels)"
   ]
  },
  {
   "cell_type": "code",
   "execution_count": 25,
   "metadata": {},
   "outputs": [],
   "source": [
    "def get_scores(losses, outputs, labels):\n",
    "  \"\"\"Funcion obtener escores a partir de losses outputs y labels\n",
    "  Inputs\n",
    "  -------\n",
    "  losses : list\n",
    "    lista de losses\n",
    "  outputs : list\n",
    "    lista de outputs\n",
    "  labels : list\n",
    "    lista con los labels\n",
    "  Returns\n",
    "  -------\n",
    "  acc: float\n",
    "    valor de accuracy\n",
    "  loss: float\n",
    "    valor de loss\n",
    "  \n",
    "    \"\"\"\n",
    "  pred = torch.argmax(outputs, dim=1).cpu().numpy()\n",
    "  true_label = labels.cpu().numpy()\n",
    "  num = labels.shape[0]\n",
    "  loss = torch.sum(losses).item()/num\n",
    "  acc = accuracy_score(true_label, pred)\n",
    "  return loss, acc"
   ]
  },
  {
   "cell_type": "code",
   "execution_count": 26,
   "metadata": {},
   "outputs": [],
   "source": [
    "def curva_entrenamiento(loss_train, loss_val, titulo):\n",
    "  \"\"\"Funcion que permite graficar la curva de entrenamiento\n",
    "  Inputs\n",
    "  -------\n",
    "  loss_train : list\n",
    "    lista de losses entrenamiento\n",
    "  loss_val : list\n",
    "    lista de losses validacion\n",
    "  titulo : str\n",
    "    titulo del grafico\n",
    "\n",
    "  \"\"\"\n",
    "  epochs = len(loss_train)\n",
    "  epoch_list = np.arange(1, epochs+1)\n",
    "  plt.plot(epoch_list, loss_train, label = \"Train\")\n",
    "  plt.plot(epoch_list, loss_val, label = \"Validation\")\n",
    "  plt.legend()\n",
    "  plt.title(titulo)\n",
    "  plt.xlabel(\"Epochs\")\n",
    "  plt.ylabel(\"Loss\")\n",
    "  plt.show()"
   ]
  },
  {
   "cell_type": "code",
   "execution_count": 27,
   "metadata": {},
   "outputs": [],
   "source": [
    "import torch.nn.functional as F\n",
    "class MyNet4(nn.Module):\n",
    "  \"\"\"Clase para definir CNN\n",
    "  Init Values\n",
    "  -------\n",
    "  conv:nn.conv2d\n",
    "    definicion redes neuronales\n",
    "  bn: nn.batchNorm2d\n",
    "    batch normalization\n",
    "  mpool:nn.maxpool2d\n",
    "    max pooling\n",
    "  fc:nn.linear\n",
    "\n",
    "  \"\"\"\n",
    "\n",
    "  def __init__(self):\n",
    "    super(MyNet4, self).__init__()#(32,32,3)\n",
    "    \n",
    "    self.nclasses = 10\n",
    "    self.conv1 = nn.Conv1d(2, 64, kernel_size=3, padding=1)  #(64,64,64)\n",
    "    self.bn1 = nn.BatchNorm1d(64)\n",
    "    self.conv2 = nn.Conv1d(64, 64, kernel_size=3, padding=1) #(64,64,64)\n",
    "    self.bn2 = nn.BatchNorm1d(64)\n",
    "    self.mpool1 = nn.MaxPool1d(kernel_size = 2, stride = 2) #(64,32,32)\n",
    "    self.conv3 = nn.Conv1d(64,64, kernel_size=3, padding=1) #(64,32,32)\n",
    "    self.bn3 = nn.BatchNorm1d(64)\n",
    "    self.conv4 = nn.Conv1d(64,64, kernel_size=3, padding=1)#(64,32,32)\n",
    "    self.bn4 = nn.BatchNorm1d(64)\n",
    "    self.conv5 = nn.Conv1d(64,64, kernel_size=3, padding=1)#(64,32,32)\n",
    "    self.bn5 = nn.BatchNorm1d(64)\n",
    "    self.mpool2 = nn.MaxPool1d(kernel_size = 2, stride = 2) #(64,16,16)\n",
    "    self.fc1 = nn.Linear(8000, 2048)\n",
    "    self.fc2 = nn.Linear(2048, 1024)\n",
    "    \n",
    "  def forward(self, x):\n",
    "    \"\"\"Paso hacia adelante\n",
    "    Inputs\n",
    "    -------\n",
    "    x: array\n",
    "      imagen\n",
    "    -------\n",
    "    Outputs\n",
    "    -------\n",
    "    x:array\n",
    "      clases de salida\n",
    "\n",
    "  \"\"\"\n",
    "    x = self.bn1(F.relu(self.conv1(x)))\n",
    "    x = self.bn2(F.relu(self.conv2(x)))\n",
    "    x = self.mpool1(x)\n",
    "    x = self.bn3(F.relu(self.conv3(x)))\n",
    "    x = self.bn4(F.relu(self.conv4(x)))\n",
    "    x = self.bn5(F.relu(self.conv5(x)))\n",
    "    x = self.mpool2(x)\n",
    "    x = x.view(x.size()[0], -1)\n",
    "    x = F.relu(self.fc1(x))\n",
    "    x = self.fc2(x)\n",
    "    return x"
   ]
  },
  {
   "cell_type": "code",
   "execution_count": 28,
   "metadata": {},
   "outputs": [],
   "source": [
    "BATCH_SIZE = 64\n",
    "LR = 1e-3\n",
    "epochs = 20"
   ]
  },
  {
   "cell_type": "code",
   "execution_count": 29,
   "metadata": {},
   "outputs": [],
   "source": [
    "device ='cpu'"
   ]
  },
  {
   "cell_type": "code",
   "execution_count": 30,
   "metadata": {},
   "outputs": [],
   "source": [
    "encoder = MyNet4()\n",
    "encoder.to(device)\n",
    "criterion = nn.CrossEntropyLoss()\n",
    "optimizer = torch.optim.Adam(encoder.parameters(), lr=LR)"
   ]
  },
  {
   "cell_type": "code",
   "execution_count": 31,
   "metadata": {},
   "outputs": [],
   "source": [
    "x_tot, x_enc, y_tot, y_enc = train_test_split(X,Y_lab,test_size=0.1)\n",
    "x_train, x_val, y_train, y_val = train_test_split(X,Y_lab,test_size=0.2)\n",
    "data_train = [y_train,x_train]\n",
    "data_val = [y_val,x_val]"
   ]
  },
  {
   "cell_type": "code",
   "execution_count": 32,
   "metadata": {},
   "outputs": [],
   "source": [
    "class data_LC(Dataset):\n",
    "    def __init__(self,input,label,device='cpu'):\n",
    "        self.data = torch.tensor(input,dtype=torch.float)\n",
    "        self.labels = torch.tensor(label)\n",
    "    def __len__(self):\n",
    "        return len(self.labels)\n",
    "    def __getitem__(self, index):\n",
    "        return self.data[index],self.labels[index]"
   ]
  },
  {
   "cell_type": "code",
   "execution_count": 33,
   "metadata": {},
   "outputs": [],
   "source": [
    "dataset_train = data_LC(x_train,y_train)\n",
    "dataset_val = data_LC(x_val,y_val)\n",
    "train_loader_base = DataLoader(dataset_train, batch_size=BATCH_SIZE, shuffle =True, pin_memory=True)\n",
    "val_loader_base = DataLoader(dataset_val, batch_size=BATCH_SIZE, shuffle =True, pin_memory=True)\n"
   ]
  },
  {
   "cell_type": "code",
   "execution_count": 34,
   "metadata": {},
   "outputs": [],
   "source": [
    "best_param_net3_path = 'best_param_encoder.bin'"
   ]
  },
  {
   "cell_type": "code",
   "execution_count": 35,
   "metadata": {},
   "outputs": [
    {
     "name": "stdout",
     "output_type": "stream",
     "text": [
      "Epoch 1/20\n"
     ]
    },
    {
     "ename": "KeyboardInterrupt",
     "evalue": "",
     "output_type": "error",
     "traceback": [
      "\u001b[0;31m---------------------------------------------------------------------------\u001b[0m",
      "\u001b[0;31mKeyboardInterrupt\u001b[0m                         Traceback (most recent call last)",
      "Cell \u001b[0;32mIn[35], line 10\u001b[0m\n\u001b[1;32m      8\u001b[0m epoch\u001b[39m+\u001b[39m\u001b[39m=\u001b[39m\u001b[39m1\u001b[39m\n\u001b[1;32m      9\u001b[0m \u001b[39mprint\u001b[39m(\u001b[39mf\u001b[39m\u001b[39m\"\u001b[39m\u001b[39mEpoch \u001b[39m\u001b[39m{\u001b[39;00mepoch\u001b[39m}\u001b[39;00m\u001b[39m/\u001b[39m\u001b[39m{\u001b[39;00mepochs\u001b[39m}\u001b[39;00m\u001b[39m\"\u001b[39m)\n\u001b[0;32m---> 10\u001b[0m train_loss, train_out, train_targets \u001b[39m=\u001b[39m train_epoch(encoder, train_loader_base, criterion, optimizer)\n\u001b[1;32m     11\u001b[0m loss, acc \u001b[39m=\u001b[39m get_scores(train_loss, train_out, train_targets)\n\u001b[1;32m     12\u001b[0m loss_train\u001b[39m.\u001b[39mappend(loss)\n",
      "Cell \u001b[0;32mIn[23], line 32\u001b[0m, in \u001b[0;36mtrain_epoch\u001b[0;34m(model, dataloader, loss_function, optimizer)\u001b[0m\n\u001b[1;32m     30\u001b[0m loss \u001b[39m=\u001b[39m loss_function(outputs, targets)\n\u001b[1;32m     31\u001b[0m loss\u001b[39m.\u001b[39mbackward()\n\u001b[0;32m---> 32\u001b[0m optimizer\u001b[39m.\u001b[39;49mstep()\n\u001b[1;32m     33\u001b[0m optimizer\u001b[39m.\u001b[39mzero_grad()\n\u001b[1;32m     35\u001b[0m train_losses\u001b[39m.\u001b[39mappend(loss\u001b[39m.\u001b[39mitem()\u001b[39m*\u001b[39mbatch_size)\n",
      "File \u001b[0;32m~/anaconda3/envs/cl/lib/python3.8/site-packages/torch/optim/optimizer.py:280\u001b[0m, in \u001b[0;36mOptimizer.profile_hook_step.<locals>.wrapper\u001b[0;34m(*args, **kwargs)\u001b[0m\n\u001b[1;32m    276\u001b[0m         \u001b[39melse\u001b[39;00m:\n\u001b[1;32m    277\u001b[0m             \u001b[39mraise\u001b[39;00m \u001b[39mRuntimeError\u001b[39;00m(\u001b[39mf\u001b[39m\u001b[39m\"\u001b[39m\u001b[39m{\u001b[39;00mfunc\u001b[39m}\u001b[39;00m\u001b[39m must return None or a tuple of (new_args, new_kwargs),\u001b[39m\u001b[39m\"\u001b[39m\n\u001b[1;32m    278\u001b[0m                                \u001b[39mf\u001b[39m\u001b[39m\"\u001b[39m\u001b[39mbut got \u001b[39m\u001b[39m{\u001b[39;00mresult\u001b[39m}\u001b[39;00m\u001b[39m.\u001b[39m\u001b[39m\"\u001b[39m)\n\u001b[0;32m--> 280\u001b[0m out \u001b[39m=\u001b[39m func(\u001b[39m*\u001b[39;49margs, \u001b[39m*\u001b[39;49m\u001b[39m*\u001b[39;49mkwargs)\n\u001b[1;32m    281\u001b[0m \u001b[39mself\u001b[39m\u001b[39m.\u001b[39m_optimizer_step_code()\n\u001b[1;32m    283\u001b[0m \u001b[39m# call optimizer step post hooks\u001b[39;00m\n",
      "File \u001b[0;32m~/anaconda3/envs/cl/lib/python3.8/site-packages/torch/optim/optimizer.py:33\u001b[0m, in \u001b[0;36m_use_grad_for_differentiable.<locals>._use_grad\u001b[0;34m(self, *args, **kwargs)\u001b[0m\n\u001b[1;32m     31\u001b[0m \u001b[39mtry\u001b[39;00m:\n\u001b[1;32m     32\u001b[0m     torch\u001b[39m.\u001b[39mset_grad_enabled(\u001b[39mself\u001b[39m\u001b[39m.\u001b[39mdefaults[\u001b[39m'\u001b[39m\u001b[39mdifferentiable\u001b[39m\u001b[39m'\u001b[39m])\n\u001b[0;32m---> 33\u001b[0m     ret \u001b[39m=\u001b[39m func(\u001b[39mself\u001b[39;49m, \u001b[39m*\u001b[39;49margs, \u001b[39m*\u001b[39;49m\u001b[39m*\u001b[39;49mkwargs)\n\u001b[1;32m     34\u001b[0m \u001b[39mfinally\u001b[39;00m:\n\u001b[1;32m     35\u001b[0m     torch\u001b[39m.\u001b[39mset_grad_enabled(prev_grad)\n",
      "File \u001b[0;32m~/anaconda3/envs/cl/lib/python3.8/site-packages/torch/optim/adam.py:141\u001b[0m, in \u001b[0;36mAdam.step\u001b[0;34m(self, closure)\u001b[0m\n\u001b[1;32m    130\u001b[0m     beta1, beta2 \u001b[39m=\u001b[39m group[\u001b[39m'\u001b[39m\u001b[39mbetas\u001b[39m\u001b[39m'\u001b[39m]\n\u001b[1;32m    132\u001b[0m     \u001b[39mself\u001b[39m\u001b[39m.\u001b[39m_init_group(\n\u001b[1;32m    133\u001b[0m         group,\n\u001b[1;32m    134\u001b[0m         params_with_grad,\n\u001b[0;32m   (...)\u001b[0m\n\u001b[1;32m    138\u001b[0m         max_exp_avg_sqs,\n\u001b[1;32m    139\u001b[0m         state_steps)\n\u001b[0;32m--> 141\u001b[0m     adam(\n\u001b[1;32m    142\u001b[0m         params_with_grad,\n\u001b[1;32m    143\u001b[0m         grads,\n\u001b[1;32m    144\u001b[0m         exp_avgs,\n\u001b[1;32m    145\u001b[0m         exp_avg_sqs,\n\u001b[1;32m    146\u001b[0m         max_exp_avg_sqs,\n\u001b[1;32m    147\u001b[0m         state_steps,\n\u001b[1;32m    148\u001b[0m         amsgrad\u001b[39m=\u001b[39;49mgroup[\u001b[39m'\u001b[39;49m\u001b[39mamsgrad\u001b[39;49m\u001b[39m'\u001b[39;49m],\n\u001b[1;32m    149\u001b[0m         beta1\u001b[39m=\u001b[39;49mbeta1,\n\u001b[1;32m    150\u001b[0m         beta2\u001b[39m=\u001b[39;49mbeta2,\n\u001b[1;32m    151\u001b[0m         lr\u001b[39m=\u001b[39;49mgroup[\u001b[39m'\u001b[39;49m\u001b[39mlr\u001b[39;49m\u001b[39m'\u001b[39;49m],\n\u001b[1;32m    152\u001b[0m         weight_decay\u001b[39m=\u001b[39;49mgroup[\u001b[39m'\u001b[39;49m\u001b[39mweight_decay\u001b[39;49m\u001b[39m'\u001b[39;49m],\n\u001b[1;32m    153\u001b[0m         eps\u001b[39m=\u001b[39;49mgroup[\u001b[39m'\u001b[39;49m\u001b[39meps\u001b[39;49m\u001b[39m'\u001b[39;49m],\n\u001b[1;32m    154\u001b[0m         maximize\u001b[39m=\u001b[39;49mgroup[\u001b[39m'\u001b[39;49m\u001b[39mmaximize\u001b[39;49m\u001b[39m'\u001b[39;49m],\n\u001b[1;32m    155\u001b[0m         foreach\u001b[39m=\u001b[39;49mgroup[\u001b[39m'\u001b[39;49m\u001b[39mforeach\u001b[39;49m\u001b[39m'\u001b[39;49m],\n\u001b[1;32m    156\u001b[0m         capturable\u001b[39m=\u001b[39;49mgroup[\u001b[39m'\u001b[39;49m\u001b[39mcapturable\u001b[39;49m\u001b[39m'\u001b[39;49m],\n\u001b[1;32m    157\u001b[0m         differentiable\u001b[39m=\u001b[39;49mgroup[\u001b[39m'\u001b[39;49m\u001b[39mdifferentiable\u001b[39;49m\u001b[39m'\u001b[39;49m],\n\u001b[1;32m    158\u001b[0m         fused\u001b[39m=\u001b[39;49mgroup[\u001b[39m'\u001b[39;49m\u001b[39mfused\u001b[39;49m\u001b[39m'\u001b[39;49m],\n\u001b[1;32m    159\u001b[0m         grad_scale\u001b[39m=\u001b[39;49m\u001b[39mgetattr\u001b[39;49m(\u001b[39mself\u001b[39;49m, \u001b[39m\"\u001b[39;49m\u001b[39mgrad_scale\u001b[39;49m\u001b[39m\"\u001b[39;49m, \u001b[39mNone\u001b[39;49;00m),\n\u001b[1;32m    160\u001b[0m         found_inf\u001b[39m=\u001b[39;49m\u001b[39mgetattr\u001b[39;49m(\u001b[39mself\u001b[39;49m, \u001b[39m\"\u001b[39;49m\u001b[39mfound_inf\u001b[39;49m\u001b[39m\"\u001b[39;49m, \u001b[39mNone\u001b[39;49;00m),\n\u001b[1;32m    161\u001b[0m     )\n\u001b[1;32m    163\u001b[0m \u001b[39mreturn\u001b[39;00m loss\n",
      "File \u001b[0;32m~/anaconda3/envs/cl/lib/python3.8/site-packages/torch/optim/adam.py:281\u001b[0m, in \u001b[0;36madam\u001b[0;34m(params, grads, exp_avgs, exp_avg_sqs, max_exp_avg_sqs, state_steps, foreach, capturable, differentiable, fused, grad_scale, found_inf, amsgrad, beta1, beta2, lr, weight_decay, eps, maximize)\u001b[0m\n\u001b[1;32m    278\u001b[0m \u001b[39melse\u001b[39;00m:\n\u001b[1;32m    279\u001b[0m     func \u001b[39m=\u001b[39m _single_tensor_adam\n\u001b[0;32m--> 281\u001b[0m func(params,\n\u001b[1;32m    282\u001b[0m      grads,\n\u001b[1;32m    283\u001b[0m      exp_avgs,\n\u001b[1;32m    284\u001b[0m      exp_avg_sqs,\n\u001b[1;32m    285\u001b[0m      max_exp_avg_sqs,\n\u001b[1;32m    286\u001b[0m      state_steps,\n\u001b[1;32m    287\u001b[0m      amsgrad\u001b[39m=\u001b[39;49mamsgrad,\n\u001b[1;32m    288\u001b[0m      beta1\u001b[39m=\u001b[39;49mbeta1,\n\u001b[1;32m    289\u001b[0m      beta2\u001b[39m=\u001b[39;49mbeta2,\n\u001b[1;32m    290\u001b[0m      lr\u001b[39m=\u001b[39;49mlr,\n\u001b[1;32m    291\u001b[0m      weight_decay\u001b[39m=\u001b[39;49mweight_decay,\n\u001b[1;32m    292\u001b[0m      eps\u001b[39m=\u001b[39;49meps,\n\u001b[1;32m    293\u001b[0m      maximize\u001b[39m=\u001b[39;49mmaximize,\n\u001b[1;32m    294\u001b[0m      capturable\u001b[39m=\u001b[39;49mcapturable,\n\u001b[1;32m    295\u001b[0m      differentiable\u001b[39m=\u001b[39;49mdifferentiable,\n\u001b[1;32m    296\u001b[0m      grad_scale\u001b[39m=\u001b[39;49mgrad_scale,\n\u001b[1;32m    297\u001b[0m      found_inf\u001b[39m=\u001b[39;49mfound_inf)\n",
      "File \u001b[0;32m~/anaconda3/envs/cl/lib/python3.8/site-packages/torch/optim/adam.py:393\u001b[0m, in \u001b[0;36m_single_tensor_adam\u001b[0;34m(params, grads, exp_avgs, exp_avg_sqs, max_exp_avg_sqs, state_steps, grad_scale, found_inf, amsgrad, beta1, beta2, lr, weight_decay, eps, maximize, capturable, differentiable)\u001b[0m\n\u001b[1;32m    390\u001b[0m \u001b[39melse\u001b[39;00m:\n\u001b[1;32m    391\u001b[0m     denom \u001b[39m=\u001b[39m (exp_avg_sq\u001b[39m.\u001b[39msqrt() \u001b[39m/\u001b[39m bias_correction2_sqrt)\u001b[39m.\u001b[39madd_(eps)\n\u001b[0;32m--> 393\u001b[0m param\u001b[39m.\u001b[39;49maddcdiv_(exp_avg, denom, value\u001b[39m=\u001b[39;49m\u001b[39m-\u001b[39;49mstep_size)\n",
      "\u001b[0;31mKeyboardInterrupt\u001b[0m: "
     ]
    },
    {
     "ename": "",
     "evalue": "",
     "output_type": "error",
     "traceback": [
      "\u001b[1;31mThe Kernel crashed while executing code in the the current cell or a previous cell. Please review the code in the cell(s) to identify a possible cause of the failure. Click <a href='https://aka.ms/vscodeJupyterKernelCrash'>here</a> for more info. View Jupyter <a href='command:jupyter.viewOutput'>log</a> for further details."
     ]
    }
   ],
   "source": [
    "best_val_loss = np.inf\n",
    "loss_train = []\n",
    "loss_val = []\n",
    "not_improve_epochs = 0\n",
    "tolerance = 5\n",
    "epoch = 0\n",
    "while not_improve_epochs<tolerance:\n",
    "  epoch+=1\n",
    "  print(f\"Epoch {epoch}/{epochs}\")\n",
    "  train_loss, train_out, train_targets = train_epoch(encoder, train_loader_base, criterion, optimizer)\n",
    "  loss, acc = get_scores(train_loss, train_out, train_targets)\n",
    "  loss_train.append(loss)\n",
    "  print(\"Train Loss: {:.3f}\\tTrain Acc: {:.3f}\".format(loss, acc))\n",
    "\n",
    "  val_loss, val_out, val_targets = val_epoch(encoder, val_loader_base, criterion)\n",
    "  loss, acc = get_scores(val_loss, val_out, val_targets)\n",
    "  loss_val.append(loss)\n",
    "  print(\"Validation Loss: {:.3f}\\tValidation Acc: {:.3f}\".format(loss, acc))\n",
    "\n",
    "  if loss < best_val_loss :\n",
    "    torch.save(encoder.state_dict(),best_param_net3_path)\n",
    "    best_val_loss = loss\n",
    "    not_improve_epochs=0\n",
    "  else:\n",
    "    not_improve_epochs+=1"
   ]
  },
  {
   "cell_type": "code",
   "execution_count": null,
   "metadata": {},
   "outputs": [],
   "source": [
    "encoder.load_state_dict(torch.load(best_param_net3_path))"
   ]
  },
  {
   "cell_type": "code",
   "execution_count": null,
   "metadata": {},
   "outputs": [],
   "source": [
    "loss, preds, targets = val_epoch(encoder, train_loader_base, criterion)\n",
    "\n",
    "preds = torch.argmax(preds, dim=1).cpu().numpy()\n",
    "targets = targets.cpu().numpy()\n",
    "\n",
    "print(classification_report(targets, preds, target_names =  classnames,digits=3))\n",
    "\n",
    "conf_m = confusion_matrix(targets, preds, normalize='true')\n",
    "cmp=ConfusionMatrixDisplay(conf_m,display_labels = classnames)\n",
    "fig, ax = plt.subplots(figsize=(10,10))\n",
    "title = 'Confusion Matrix Baseline Train'\n",
    "ax.set_title(title)\n",
    "fig.set_facecolor('white')\n",
    "cmp.plot(ax=ax,xticks_rotation=45)"
   ]
  },
  {
   "attachments": {},
   "cell_type": "markdown",
   "metadata": {},
   "source": [
    "## Train Self-Supervised"
   ]
  },
  {
   "cell_type": "code",
   "execution_count": null,
   "metadata": {},
   "outputs": [],
   "source": [
    "class NormalizedEuclideanDistance(object):\n",
    "    def __init__(self, dim, eps=1e-6):\n",
    "        self.dim = dim\n",
    "        self.eps = eps\n",
    "\n",
    "    def __call__(self, x, y):\n",
    "        z = (x - y).pow(2).sum(1) / self.dim\n",
    "        return z, (z + self.eps).sqrt()"
   ]
  },
  {
   "cell_type": "code",
   "execution_count": null,
   "metadata": {},
   "outputs": [],
   "source": [
    "class ContrastiveLoss(torch.nn.Module):\n",
    "    def __init__(self, margin=1, distance_fun_name='euclidean', nl=16):\n",
    "        super(ContrastiveLoss, self).__init__()\n",
    "        self.margin = margin\n",
    "        self.distance_fun_name = distance_fun_name\n",
    "        if self.distance_fun_name == \"euclidean\":\n",
    "            self.forward_fun = self.contrastive_with_euclidean\n",
    "            self.norm_euclidean_distance = NormalizedEuclideanDistance(nl)\n",
    "        elif self.distance_fun_name == \"cosine\":\n",
    "            self.forward_fun = self.contrastive_with_cosine\n",
    "            self.cosine_distance = torch.nn.CosineSimilarity()\n",
    "        self.relu = torch.nn.ReLU()\n",
    "\n",
    "    def contrastive_with_cim(self, x1, x2, y_bar):\n",
    "        cim2, cim = self.cim(x1, x2)\n",
    "        loss = 0.5 * (1 - y_bar) * cim2 + 0.5 * y_bar * self.relu(self.margin - cim).pow(2)\n",
    "        return loss.mean()\n",
    "\n",
    "    def contrastive_with_euclidean(self, x1, x2, y_bar):\n",
    "        dw2, dw = self.norm_euclidean_distance(x1, x2)\n",
    "        loss = 0.5 * (1 - y_bar) * dw2 + 0.5 * y_bar * self.relu(self.margin - dw).pow(2)\n",
    "        return loss.mean()\n",
    "\n",
    "    def contrastive_with_cosine(self, x1, x2, y_bar):\n",
    "        dw = 1 - self.cosine_distance(x1, x2)\n",
    "        loss = 0.5 * ((1 - y_bar) * dw + y_bar * self.relu(self.margin - dw))\n",
    "        return loss.mean()\n",
    "\n",
    "    def forward(self, z, y):\n",
    "        indices1 = torch.randperm(len(z))\n",
    "        indices2 = torch.randperm(len(z))\n",
    "        y_bar = torch.logical_or(y[indices1] != y[indices2], (y[indices1] == -99) * (y[indices2] == -99)) * 1.\n",
    "        loss = self.forward_fun(z[indices1], z[indices2], y_bar)\n",
    "        return loss"
   ]
  },
  {
   "cell_type": "code",
   "execution_count": null,
   "metadata": {},
   "outputs": [],
   "source": [
    "def train_epoch_ssl(model, dataloader, loss_function, optimizer):\n",
    "  \"\"\"Funcion para realizar el entrenamiento de una epoca\n",
    "    Inputs\n",
    "    -------\n",
    "    model : torch.model\n",
    "      modelo a entrenar\n",
    "    dataloader: torch.dataloader\n",
    "      datos con los cuales se entrena\n",
    "    loss_function: torch.loss_fn\n",
    "      funcion de perdida para el entrenamiento(entropia cruzada)\n",
    "    optimizer: torch.optimizer\n",
    "      funcion de optimizacion(adam)\n",
    "    Returns\n",
    "    -------\n",
    "    list:\n",
    "    entrega un tensor con los valores de ouputs entrenamiento, labels y losses\n",
    "  \"\"\"\n",
    "  model.train()\n",
    "  train_outputs = []\n",
    "  train_labels = []\n",
    "  train_losses = []\n",
    "\n",
    "  for data in dataloader:\n",
    "    targets = data[1].cuda()\n",
    "    sample = data[0].float().cuda()\n",
    "    seq_len = data[2]\n",
    "    batch_size = targets.shape[0]\n",
    "\n",
    "    outputs = model([sample[0],sample[1],seq_len])\n",
    "    loss = loss_function(outputs, targets)\n",
    "    loss.backward()\n",
    "    optimizer.step()\n",
    "    optimizer.zero_grad()\n",
    "\n",
    "    train_losses.append(loss.item()*batch_size)\n",
    "    train_outputs.append(outputs.detach())\n",
    "    train_labels.append(targets.detach())\n",
    "\n",
    "  return torch.tensor(train_losses), torch.cat(train_outputs), torch.cat(train_labels)"
   ]
  },
  {
   "cell_type": "code",
   "execution_count": null,
   "metadata": {},
   "outputs": [],
   "source": [
    "def val_epoch_ssl(model, dataloader, loss_function):\n",
    "  \"\"\"Funcion para realizar la validacion de una epoca\n",
    "    Inputs\n",
    "    -------\n",
    "    model : torch.model\n",
    "      modelo a entrenar\n",
    "    dataloader: torch.dataloader\n",
    "      datos con los cuales se entrena\n",
    "    loss_function: torch.loss_fn\n",
    "      funcion de perdida para el entrenamiento(entropia cruzada)\n",
    "    Returns\n",
    "    -------\n",
    "    list:\n",
    "    entrega un tensor con los valores de ouputs validacion, labels y losses\n",
    "  \"\"\"\n",
    "  model.eval()\n",
    "  val_outputs= []\n",
    "  val_labels = []\n",
    "  val_losses = []\n",
    "\n",
    "  with torch.no_grad():\n",
    "    for data in dataloader:\n",
    "      targets = data[1].cuda()\n",
    "      sample = data[0].float().cuda()\n",
    "      seq_len = data[2]\n",
    "      batch_size = targets.shape[0]\n",
    "\n",
    "      outputs = model([sample[0],sample[1],seq_len])\n",
    "\n",
    "      loss = loss_function(outputs, targets)\n",
    "\n",
    "      val_losses.append(loss.item()*batch_size)\n",
    "      val_outputs.append(outputs.detach())\n",
    "      val_labels.append(targets.detach())\n",
    "\n",
    "  return torch.tensor(val_losses), torch.cat(val_outputs), torch.cat(val_labels)"
   ]
  },
  {
   "cell_type": "code",
   "execution_count": null,
   "metadata": {},
   "outputs": [],
   "source": [
    "best_val_loss = np.inf\n",
    "loss_train = []\n",
    "loss_val = []\n",
    "not_improve_epochs = 0\n",
    "tolerance = 5\n",
    "epoch = 0\n",
    "while not_improve_epochs<tolerance:\n",
    "  epoch+=1\n",
    "  print(f\"Epoch {epoch}/{epochs}\")\n",
    "  train_loss, train_out, train_targets = train_epoch_ssl(encoder, train_loader_base, criterion, optimizer)\n",
    "  loss, acc = get_scores(train_loss, train_out, train_targets)\n",
    "  loss_train.append(loss)\n",
    "  print(\"Train Loss: {:.3f}\\tTrain Acc: {:.3f}\".format(loss, acc))\n",
    "\n",
    "  val_loss, val_out, val_targets = val_epoch_ssl(encoder, val_loader_base, criterion)\n",
    "  loss, acc = get_scores(val_loss, val_out, val_targets)\n",
    "  loss_val.append(loss)\n",
    "  print(\"Validation Loss: {:.3f}\\tValidation Acc: {:.3f}\".format(loss, acc))\n",
    "\n",
    "  if loss < best_val_loss :\n",
    "    torch.save(encoder.state_dict(),best_param_net3_path)\n",
    "    best_val_loss = loss\n",
    "    not_improve_epochs=0\n",
    "  else:\n",
    "    not_improve_epochs+=1"
   ]
  },
  {
   "cell_type": "code",
   "execution_count": null,
   "metadata": {},
   "outputs": [],
   "source": [
    "a = 2"
   ]
  },
  {
   "cell_type": "code",
   "execution_count": null,
   "metadata": {},
   "outputs": [],
   "source": []
  }
 ],
 "metadata": {
  "kernelspec": {
   "display_name": "ssl",
   "language": "python",
   "name": "python3"
  },
  "language_info": {
   "codemirror_mode": {
    "name": "ipython",
    "version": 3
   },
   "file_extension": ".py",
   "mimetype": "text/x-python",
   "name": "python",
   "nbconvert_exporter": "python",
   "pygments_lexer": "ipython3",
   "version": "3.8.16"
  },
  "orig_nbformat": 4
 },
 "nbformat": 4,
 "nbformat_minor": 2
}
