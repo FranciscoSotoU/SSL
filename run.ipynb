{
 "cells": [
  {
   "cell_type": "code",
   "execution_count": 1,
   "metadata": {},
   "outputs": [
    {
     "name": "stderr",
     "output_type": "stream",
     "text": [
      "2023-05-07 16:28:35.585096: I tensorflow/core/platform/cpu_feature_guard.cc:193] This TensorFlow binary is optimized with oneAPI Deep Neural Network Library (oneDNN) to use the following CPU instructions in performance-critical operations:  SSE4.1 SSE4.2 AVX AVX2 FMA\n",
      "To enable them in other operations, rebuild TensorFlow with the appropriate compiler flags.\n"
     ]
    }
   ],
   "source": [
    "from light_curve import LightCurve\n",
    "import joblib\n",
    "from torch.utils.data import Dataset, DataLoader\n",
    "import numpy as np\n",
    "import torch\n",
    "from torchvision import transforms\n",
    "import aug\n",
    "import random\n",
    "import pandas as pd\n",
    "from sklearn.model_selection import train_test_split\n",
    "import torch.nn as nn\n",
    "from sklearn.metrics import accuracy_score, confusion_matrix, classification_report, ConfusionMatrixDisplay\n",
    "\n",
    "from keras.utils.np_utils import to_categorical"
   ]
  },
  {
   "attachments": {},
   "cell_type": "markdown",
   "metadata": {},
   "source": [
    "## Dataset\n"
   ]
  },
  {
   "cell_type": "code",
   "execution_count": 2,
   "metadata": {},
   "outputs": [],
   "source": [
    "path_macho = '/Users/francisco/Documents/data/macho/full.pkl'\n",
    "data_macho = joblib.load(path_macho)\n",
    "path_asas = '/Users/francisco/Documents/data/asas/full.pkl'\n",
    "data_asas = joblib.load(path_asas)\n",
    "path_linear = '/Users/francisco/Documents/data/linear/full.pkl'\n",
    "data_linear = joblib.load(path_linear)"
   ]
  },
  {
   "attachments": {},
   "cell_type": "markdown",
   "metadata": {},
   "source": [
    "## Cargar datos,period fold y normalizacion"
   ]
  },
  {
   "cell_type": "code",
   "execution_count": 3,
   "metadata": {},
   "outputs": [],
   "source": [
    "i=np.load('/Users/francisco/Documents/data/asas/light_curves.npz',allow_pickle=True)\n",
    "n=i['light_curves']"
   ]
  },
  {
   "cell_type": "code",
   "execution_count": null,
   "metadata": {},
   "outputs": [],
   "source": []
  },
  {
   "cell_type": "code",
   "execution_count": 4,
   "metadata": {},
   "outputs": [],
   "source": [
    "#classnames, y_inds = np.unique([str(label) for label in l],return_inverse=True)\n",
    "#Y = to_categorical(y_inds, len(classnames))\n"
   ]
  },
  {
   "cell_type": "code",
   "execution_count": 5,
   "metadata": {},
   "outputs": [],
   "source": [
    "#Y_lab = [list(np.where(x==1))[0][0] for x in Y]"
   ]
  },
  {
   "cell_type": "code",
   "execution_count": 6,
   "metadata": {},
   "outputs": [],
   "source": [
    "#print(Y_lab)"
   ]
  },
  {
   "cell_type": "code",
   "execution_count": 7,
   "metadata": {},
   "outputs": [],
   "source": [
    "all_data = data_macho + data_asas + data_linear"
   ]
  },
  {
   "cell_type": "code",
   "execution_count": 8,
   "metadata": {},
   "outputs": [
    {
     "data": {
      "text/plain": [
       "76761"
      ]
     },
     "execution_count": 8,
     "metadata": {},
     "output_type": "execute_result"
    }
   ],
   "source": [
    "len(all_data)"
   ]
  },
  {
   "cell_type": "code",
   "execution_count": 9,
   "metadata": {},
   "outputs": [],
   "source": [
    "max_value = max([lc.max_value() for lc in all_data])\n",
    "min_value = min([lc.min_value() for lc in all_data])"
   ]
  },
  {
   "cell_type": "code",
   "execution_count": null,
   "metadata": {},
   "outputs": [],
   "source": []
  },
  {
   "cell_type": "code",
   "execution_count": 57,
   "metadata": {},
   "outputs": [
    {
     "name": "stderr",
     "output_type": "stream",
     "text": [
      "/var/folders/1z/7t_pnhds34b238n904xz5fw40000gn/T/ipykernel_13419/1791650327.py:5: VisibleDeprecationWarning: Creating an ndarray from ragged nested sequences (which is a list-or-tuple of lists-or-tuples-or ndarrays with different lengths or shapes) is deprecated. If you meant to do this, you must specify 'dtype=object' when creating the ndarray.\n",
      "  X_t = np.array(data_raw).transpose()\n"
     ]
    }
   ],
   "source": [
    "for lc in all_data:\n",
    "    lc.normalize(min_value,max_value)\n",
    "    lc.period_fold()\n",
    "data_raw = [[lc.times,lc.measurements] for lc in all_data]\n",
    "X_t = np.array(data_raw).transpose()\n",
    "\n"
   ]
  },
  {
   "cell_type": "code",
   "execution_count": 33,
   "metadata": {},
   "outputs": [],
   "source": [
    "from scipy.signal import resample"
   ]
  },
  {
   "cell_type": "code",
   "execution_count": 34,
   "metadata": {},
   "outputs": [],
   "source": [
    "M_padded = [resample(x,500) for x in X_t[0]]\n",
    "T_padded = [resample(x,500) for x in X_t[1]]"
   ]
  },
  {
   "cell_type": "code",
   "execution_count": 100,
   "metadata": {},
   "outputs": [],
   "source": [
    "X = np.array([[M_padded[i],T_padded[i]] for i in range(len(M_padded))])"
   ]
  },
  {
   "cell_type": "code",
   "execution_count": 101,
   "metadata": {},
   "outputs": [
    {
     "data": {
      "text/plain": [
       "76761"
      ]
     },
     "execution_count": 101,
     "metadata": {},
     "output_type": "execute_result"
    }
   ],
   "source": [
    "len(X)"
   ]
  },
  {
   "cell_type": "code",
   "execution_count": 102,
   "metadata": {},
   "outputs": [],
   "source": [
    "\n",
    "classnames, y_inds = np.unique([str(lc.label) for lc in all_data],return_inverse=True)\n",
    "Y = to_categorical(y_inds, len(classnames))\n",
    "\n",
    "Y_lab = [list(np.where(p==1))[0][0] for p in Y]"
   ]
  },
  {
   "attachments": {},
   "cell_type": "markdown",
   "metadata": {},
   "source": [
    "## Training Encoder"
   ]
  },
  {
   "cell_type": "code",
   "execution_count": 161,
   "metadata": {},
   "outputs": [],
   "source": [
    "def train_epoch(model, dataloader, loss_function, optimizer):\n",
    "  \"\"\"Funcion para realizar el entrenamiento de una epoca\n",
    "    Inputs\n",
    "    -------\n",
    "    model : torch.model\n",
    "      modelo a entrenar\n",
    "    dataloader: torch.dataloader\n",
    "      datos con los cuales se entrena\n",
    "    loss_function: torch.loss_fn\n",
    "      funcion de perdida para el entrenamiento(entropia cruzada)\n",
    "    optimizer: torch.optimizer\n",
    "      funcion de optimizacion(adam)\n",
    "    Returns\n",
    "    -------\n",
    "    list:\n",
    "    entrega un tensor con los valores de ouputs entrenamiento, labels y losses\n",
    "  \"\"\"\n",
    "  model.train()\n",
    "  train_outputs = []\n",
    "  train_labels = []\n",
    "  train_losses = []\n",
    "\n",
    "  for i,data in enumerate(dataloader):\n",
    "    targets = data[1].cpu()\n",
    "    sample = data[0].float().cpu()\n",
    "\n",
    "    batch_size = targets.shape[0]\n",
    "\n",
    "    outputs = model(sample)\n",
    "    loss = loss_function(outputs, targets)\n",
    "    loss.backward()\n",
    "    optimizer.step()\n",
    "    optimizer.zero_grad()\n",
    "\n",
    "    train_losses.append(loss.item()*batch_size)\n",
    "    train_outputs.append(outputs.detach())\n",
    "    train_labels.append(targets.detach())\n",
    "\n",
    "  return torch.tensor(train_losses), torch.cat(train_outputs), torch.cat(train_labels)"
   ]
  },
  {
   "cell_type": "code",
   "execution_count": 162,
   "metadata": {},
   "outputs": [],
   "source": [
    "def val_epoch(model, dataloader, loss_function):\n",
    "  \"\"\"Funcion para realizar la validacion de una epoca\n",
    "    Inputs\n",
    "    -------\n",
    "    model : torch.model\n",
    "      modelo a entrenar\n",
    "    dataloader: torch.dataloader\n",
    "      datos con los cuales se entrena\n",
    "    loss_function: torch.loss_fn\n",
    "      funcion de perdida para el entrenamiento(entropia cruzada)\n",
    "    Returns\n",
    "    -------\n",
    "    list:\n",
    "    entrega un tensor con los valores de ouputs validacion, labels y losses\n",
    "  \"\"\"\n",
    "  model.eval()\n",
    "  val_outputs= []\n",
    "  val_labels = []\n",
    "  val_losses = []\n",
    "\n",
    "  with torch.no_grad():\n",
    "    for i,data in enumerate(dataloader):\n",
    "      targets = data[1].cpu()\n",
    "      sample = data[0].float().cpu()\n",
    "\n",
    "      batch_size = targets.shape[0]\n",
    "\n",
    "      outputs = model(sample)\n",
    "\n",
    "      loss = loss_function(outputs, targets)\n",
    "\n",
    "      val_losses.append(loss.item()*batch_size)\n",
    "      val_outputs.append(outputs.detach())\n",
    "      val_labels.append(targets.detach())\n",
    "\n",
    "  return torch.tensor(val_losses), torch.cat(val_outputs), torch.cat(val_labels)"
   ]
  },
  {
   "cell_type": "code",
   "execution_count": 163,
   "metadata": {},
   "outputs": [],
   "source": [
    "def get_scores(losses, outputs, labels):\n",
    "  \"\"\"Funcion obtener escores a partir de losses outputs y labels\n",
    "  Inputs\n",
    "  -------\n",
    "  losses : list\n",
    "    lista de losses\n",
    "  outputs : list\n",
    "    lista de outputs\n",
    "  labels : list\n",
    "    lista con los labels\n",
    "  Returns\n",
    "  -------\n",
    "  acc: float\n",
    "    valor de accuracy\n",
    "  loss: float\n",
    "    valor de loss\n",
    "  \n",
    "    \"\"\"\n",
    "  pred = torch.argmax(outputs, dim=1).cpu().numpy()\n",
    "  true_label = labels.cpu().numpy()\n",
    "  num = labels.shape[0]\n",
    "  loss = torch.sum(losses).item()/num\n",
    "  acc = accuracy_score(true_label, pred)\n",
    "  return loss, acc"
   ]
  },
  {
   "cell_type": "code",
   "execution_count": null,
   "metadata": {},
   "outputs": [],
   "source": [
    "def curva_entrenamiento(loss_train, loss_val, titulo):\n",
    "  \"\"\"Funcion que permite graficar la curva de entrenamiento\n",
    "  Inputs\n",
    "  -------\n",
    "  loss_train : list\n",
    "    lista de losses entrenamiento\n",
    "  loss_val : list\n",
    "    lista de losses validacion\n",
    "  titulo : str\n",
    "    titulo del grafico\n",
    "\n",
    "  \"\"\"\n",
    "  epochs = len(loss_train)\n",
    "  epoch_list = np.arange(1, epochs+1)\n",
    "  plt.plot(epoch_list, loss_train, label = \"Train\")\n",
    "  plt.plot(epoch_list, loss_val, label = \"Validation\")\n",
    "  plt.legend()\n",
    "  plt.title(titulo)\n",
    "  plt.xlabel(\"Epochs\")\n",
    "  plt.ylabel(\"Loss\")\n",
    "  plt.show()"
   ]
  },
  {
   "cell_type": "code",
   "execution_count": 334,
   "metadata": {},
   "outputs": [],
   "source": [
    "import torch.nn.functional as F\n",
    "class MyNet4(nn.Module):\n",
    "  \"\"\"Clase para definir CNN\n",
    "  Init Values\n",
    "  -------\n",
    "  conv:nn.conv2d\n",
    "    definicion redes neuronales\n",
    "  bn: nn.batchNorm2d\n",
    "    batch normalization\n",
    "  mpool:nn.maxpool2d\n",
    "    max pooling\n",
    "  fc:nn.linear\n",
    "\n",
    "  \"\"\"\n",
    "\n",
    "  def __init__(self):\n",
    "    super(MyNet4, self).__init__()#(32,32,3)\n",
    "    \n",
    "    self.nclasses = 10\n",
    "    self.conv1 = nn.Conv1d(2, 64, kernel_size=3, padding=1)  #(64,64,64)\n",
    "    self.bn1 = nn.BatchNorm1d(64)\n",
    "    self.conv2 = nn.Conv1d(64, 64, kernel_size=3, padding=1) #(64,64,64)\n",
    "    self.bn2 = nn.BatchNorm1d(64)\n",
    "    self.mpool1 = nn.MaxPool1d(kernel_size = 2, stride = 2) #(64,32,32)\n",
    "    self.conv3 = nn.Conv1d(64,64, kernel_size=3, padding=1) #(64,32,32)\n",
    "    self.bn3 = nn.BatchNorm1d(64)\n",
    "    self.conv4 = nn.Conv1d(64,64, kernel_size=3, padding=1)#(64,32,32)\n",
    "    self.bn4 = nn.BatchNorm1d(64)\n",
    "    self.conv5 = nn.Conv1d(64,64, kernel_size=3, padding=1)#(64,32,32)\n",
    "    self.bn5 = nn.BatchNorm1d(64)\n",
    "    self.mpool2 = nn.MaxPool1d(kernel_size = 2, stride = 2) #(64,16,16)\n",
    "    self.fc1 = nn.Linear(8000, 2048)\n",
    "    self.fc2 = nn.Linear(2048, 1024)\n",
    "    \n",
    "  def forward(self, x):\n",
    "    \"\"\"Paso hacia adelante\n",
    "    Inputs\n",
    "    -------\n",
    "    x: array\n",
    "      imagen\n",
    "    -------\n",
    "    Outputs\n",
    "    -------\n",
    "    x:array\n",
    "      clases de salida\n",
    "\n",
    "  \"\"\"\n",
    "    x = self.bn1(F.relu(self.conv1(x)))\n",
    "    x = self.bn2(F.relu(self.conv2(x)))\n",
    "    x = self.mpool1(x)\n",
    "    x = self.bn3(F.relu(self.conv3(x)))\n",
    "    x = self.bn4(F.relu(self.conv4(x)))\n",
    "    x = self.bn5(F.relu(self.conv5(x)))\n",
    "    x = self.mpool2(x)\n",
    "    x = x.view(x.size()[0], -1)\n",
    "    x = F.relu(self.fc1(x))\n",
    "    x = self.fc2(x)\n",
    "    return x"
   ]
  },
  {
   "cell_type": "code",
   "execution_count": 335,
   "metadata": {},
   "outputs": [],
   "source": [
    "BATCH_SIZE = 64\n",
    "LR = 1e-3\n",
    "epochs = 20"
   ]
  },
  {
   "cell_type": "code",
   "execution_count": 336,
   "metadata": {},
   "outputs": [],
   "source": [
    "device ='cpu'"
   ]
  },
  {
   "cell_type": "code",
   "execution_count": 337,
   "metadata": {},
   "outputs": [],
   "source": [
    "encoder = MyNet4()\n",
    "encoder.to(device)\n",
    "criterion = nn.CrossEntropyLoss()\n",
    "optimizer = torch.optim.Adam(encoder.parameters(), lr=LR)"
   ]
  },
  {
   "cell_type": "code",
   "execution_count": 338,
   "metadata": {},
   "outputs": [],
   "source": [
    "x_tot, x_enc, y_tot, y_enc = train_test_split(X,Y_lab,test_size=0.1)\n",
    "x_train, x_val, y_train, y_val = train_test_split(X,Y_lab,test_size=0.2)\n",
    "data_train = [y_train,x_train]\n",
    "data_val = [y_val,x_val]"
   ]
  },
  {
   "cell_type": "code",
   "execution_count": 339,
   "metadata": {},
   "outputs": [],
   "source": [
    "class data_LC(Dataset):\n",
    "    def __init__(self,input,label,device='cpu'):\n",
    "        self.data = torch.tensor(input,dtype=torch.float)\n",
    "        self.labels = torch.tensor(label)\n",
    "    def __len__(self):\n",
    "        return len(self.labels)\n",
    "    def __getitem__(self, index):\n",
    "        return self.data[index],self.labels[index]"
   ]
  },
  {
   "cell_type": "code",
   "execution_count": 340,
   "metadata": {},
   "outputs": [],
   "source": [
    "dataset_train = data_LC(x_train,y_train)\n",
    "dataset_val = data_LC(x_val,y_val)\n",
    "train_loader_base = DataLoader(dataset_train, batch_size=BATCH_SIZE, shuffle =True, pin_memory=True)\n",
    "val_loader_base = DataLoader(dataset_val, batch_size=BATCH_SIZE, shuffle =True, pin_memory=True)\n"
   ]
  },
  {
   "cell_type": "code",
   "execution_count": 341,
   "metadata": {},
   "outputs": [],
   "source": [
    "best_param_net3_path = 'best_param_encoder.bin'"
   ]
  },
  {
   "cell_type": "code",
   "execution_count": 342,
   "metadata": {},
   "outputs": [
    {
     "name": "stdout",
     "output_type": "stream",
     "text": [
      "Epoch 1/20\n"
     ]
    },
    {
     "ename": "KeyboardInterrupt",
     "evalue": "",
     "output_type": "error",
     "traceback": [
      "\u001b[0;31m---------------------------------------------------------------------------\u001b[0m",
      "\u001b[0;31mKeyboardInterrupt\u001b[0m                         Traceback (most recent call last)",
      "Cell \u001b[0;32mIn[342], line 10\u001b[0m\n\u001b[1;32m      8\u001b[0m epoch\u001b[39m+\u001b[39m\u001b[39m=\u001b[39m\u001b[39m1\u001b[39m\n\u001b[1;32m      9\u001b[0m \u001b[39mprint\u001b[39m(\u001b[39mf\u001b[39m\u001b[39m\"\u001b[39m\u001b[39mEpoch \u001b[39m\u001b[39m{\u001b[39;00mepoch\u001b[39m}\u001b[39;00m\u001b[39m/\u001b[39m\u001b[39m{\u001b[39;00mepochs\u001b[39m}\u001b[39;00m\u001b[39m\"\u001b[39m)\n\u001b[0;32m---> 10\u001b[0m train_loss, train_out, train_targets \u001b[39m=\u001b[39m train_epoch(encoder, train_loader_base, criterion, optimizer)\n\u001b[1;32m     11\u001b[0m loss, acc \u001b[39m=\u001b[39m get_scores(train_loss, train_out, train_targets)\n\u001b[1;32m     12\u001b[0m loss_train\u001b[39m.\u001b[39mappend(loss)\n",
      "Cell \u001b[0;32mIn[161], line 31\u001b[0m, in \u001b[0;36mtrain_epoch\u001b[0;34m(model, dataloader, loss_function, optimizer)\u001b[0m\n\u001b[1;32m     29\u001b[0m outputs \u001b[39m=\u001b[39m model(sample)\n\u001b[1;32m     30\u001b[0m loss \u001b[39m=\u001b[39m loss_function(outputs, targets)\n\u001b[0;32m---> 31\u001b[0m loss\u001b[39m.\u001b[39;49mbackward()\n\u001b[1;32m     32\u001b[0m optimizer\u001b[39m.\u001b[39mstep()\n\u001b[1;32m     33\u001b[0m optimizer\u001b[39m.\u001b[39mzero_grad()\n",
      "File \u001b[0;32m~/anaconda3/envs/ssl/lib/python3.9/site-packages/torch/_tensor.py:396\u001b[0m, in \u001b[0;36mTensor.backward\u001b[0;34m(self, gradient, retain_graph, create_graph, inputs)\u001b[0m\n\u001b[1;32m    387\u001b[0m \u001b[39mif\u001b[39;00m has_torch_function_unary(\u001b[39mself\u001b[39m):\n\u001b[1;32m    388\u001b[0m     \u001b[39mreturn\u001b[39;00m handle_torch_function(\n\u001b[1;32m    389\u001b[0m         Tensor\u001b[39m.\u001b[39mbackward,\n\u001b[1;32m    390\u001b[0m         (\u001b[39mself\u001b[39m,),\n\u001b[0;32m   (...)\u001b[0m\n\u001b[1;32m    394\u001b[0m         create_graph\u001b[39m=\u001b[39mcreate_graph,\n\u001b[1;32m    395\u001b[0m         inputs\u001b[39m=\u001b[39minputs)\n\u001b[0;32m--> 396\u001b[0m torch\u001b[39m.\u001b[39;49mautograd\u001b[39m.\u001b[39;49mbackward(\u001b[39mself\u001b[39;49m, gradient, retain_graph, create_graph, inputs\u001b[39m=\u001b[39;49minputs)\n",
      "File \u001b[0;32m~/anaconda3/envs/ssl/lib/python3.9/site-packages/torch/autograd/__init__.py:173\u001b[0m, in \u001b[0;36mbackward\u001b[0;34m(tensors, grad_tensors, retain_graph, create_graph, grad_variables, inputs)\u001b[0m\n\u001b[1;32m    168\u001b[0m     retain_graph \u001b[39m=\u001b[39m create_graph\n\u001b[1;32m    170\u001b[0m \u001b[39m# The reason we repeat same the comment below is that\u001b[39;00m\n\u001b[1;32m    171\u001b[0m \u001b[39m# some Python versions print out the first line of a multi-line function\u001b[39;00m\n\u001b[1;32m    172\u001b[0m \u001b[39m# calls in the traceback and some print out the last line\u001b[39;00m\n\u001b[0;32m--> 173\u001b[0m Variable\u001b[39m.\u001b[39;49m_execution_engine\u001b[39m.\u001b[39;49mrun_backward(  \u001b[39m# Calls into the C++ engine to run the backward pass\u001b[39;49;00m\n\u001b[1;32m    174\u001b[0m     tensors, grad_tensors_, retain_graph, create_graph, inputs,\n\u001b[1;32m    175\u001b[0m     allow_unreachable\u001b[39m=\u001b[39;49m\u001b[39mTrue\u001b[39;49;00m, accumulate_grad\u001b[39m=\u001b[39;49m\u001b[39mTrue\u001b[39;49;00m)\n",
      "\u001b[0;31mKeyboardInterrupt\u001b[0m: "
     ]
    }
   ],
   "source": [
    "best_val_loss = np.inf\n",
    "loss_train = []\n",
    "loss_val = []\n",
    "not_improve_epochs = 0\n",
    "tolerance = 5\n",
    "epoch = 0\n",
    "while not_improve_epochs<tolerance:\n",
    "  epoch+=1\n",
    "  print(f\"Epoch {epoch}/{epochs}\")\n",
    "  train_loss, train_out, train_targets = train_epoch(encoder, train_loader_base, criterion, optimizer)\n",
    "  loss, acc = get_scores(train_loss, train_out, train_targets)\n",
    "  loss_train.append(loss)\n",
    "  print(\"Train Loss: {:.3f}\\tTrain Acc: {:.3f}\".format(loss, acc))\n",
    "\n",
    "  val_loss, val_out, val_targets = val_epoch(encoder, val_loader_base, criterion)\n",
    "  loss, acc = get_scores(val_loss, val_out, val_targets)\n",
    "  loss_val.append(loss)\n",
    "  print(\"Validation Loss: {:.3f}\\tValidation Acc: {:.3f}\".format(loss, acc))\n",
    "\n",
    "  if loss < best_val_loss :\n",
    "    torch.save(encoder.state_dict(),best_param_net3_path)\n",
    "    best_val_loss = loss\n",
    "    not_improve_epochs=0\n",
    "  else:\n",
    "    not_improve_epochs+=1"
   ]
  },
  {
   "cell_type": "code",
   "execution_count": null,
   "metadata": {},
   "outputs": [],
   "source": [
    "loss, preds, targets = val_epoch(net3, train_loader_base, criterion)\n",
    "\n",
    "preds = torch.argmax(preds, dim=1).cpu().numpy()\n",
    "targets = targets.cpu().numpy()\n",
    "\n",
    "print(classification_report(targets, preds, target_names =  classes.values(),digits=3))\n",
    "\n",
    "conf_m = confusion_matrix(targets, preds, normalize='true')\n",
    "cmp=ConfusionMatrixDisplay(conf_m,display_labels = classes.values())\n",
    "fig, ax = plt.subplots(figsize=(10,10))\n",
    "title = 'Confusion Matrix Baseline Train'\n",
    "ax.set_title(title)\n",
    "fig.set_facecolor('white')\n",
    "cmp.plot(ax=ax,xticks_rotation=45)"
   ]
  },
  {
   "attachments": {},
   "cell_type": "markdown",
   "metadata": {},
   "source": [
    "## Train Self-Supervised"
   ]
  },
  {
   "cell_type": "code",
   "execution_count": 160,
   "metadata": {},
   "outputs": [],
   "source": [
    "class NormalizedEuclideanDistance(object):\n",
    "    def __init__(self, dim, eps=1e-6):\n",
    "        self.dim = dim\n",
    "        self.eps = eps\n",
    "\n",
    "    def __call__(self, x, y):\n",
    "        z = (x - y).pow(2).sum(1) / self.dim\n",
    "        return z, (z + self.eps).sqrt()"
   ]
  },
  {
   "cell_type": "code",
   "execution_count": null,
   "metadata": {},
   "outputs": [],
   "source": [
    "class ContrastiveLoss(torch.nn.Module):\n",
    "    def __init__(self, margin=1, distance_fun_name='euclidean', nl=16):\n",
    "        super(ContrastiveLoss, self).__init__()\n",
    "        self.margin = margin\n",
    "        self.distance_fun_name = distance_fun_name\n",
    "        if self.distance_fun_name == \"euclidean\":\n",
    "            self.forward_fun = self.contrastive_with_euclidean\n",
    "            self.norm_euclidean_distance = NormalizedEuclideanDistance(nl)\n",
    "        elif self.distance_fun_name == \"cosine\":\n",
    "            self.forward_fun = self.contrastive_with_cosine\n",
    "            self.cosine_distance = torch.nn.CosineSimilarity()\n",
    "        self.relu = torch.nn.ReLU()\n",
    "\n",
    "    def contrastive_with_cim(self, x1, x2, y_bar):\n",
    "        cim2, cim = self.cim(x1, x2)\n",
    "        loss = 0.5 * (1 - y_bar) * cim2 + 0.5 * y_bar * self.relu(self.margin - cim).pow(2)\n",
    "        return loss.mean()\n",
    "\n",
    "    def contrastive_with_euclidean(self, x1, x2, y_bar):\n",
    "        dw2, dw = self.norm_euclidean_distance(x1, x2)\n",
    "        loss = 0.5 * (1 - y_bar) * dw2 + 0.5 * y_bar * self.relu(self.margin - dw).pow(2)\n",
    "        return loss.mean()\n",
    "\n",
    "    def contrastive_with_cosine(self, x1, x2, y_bar):\n",
    "        dw = 1 - self.cosine_distance(x1, x2)\n",
    "        loss = 0.5 * ((1 - y_bar) * dw + y_bar * self.relu(self.margin - dw))\n",
    "        return loss.mean()\n",
    "\n",
    "    def forward(self, z, y):\n",
    "        indices1 = torch.randperm(len(z))\n",
    "        indices2 = torch.randperm(len(z))\n",
    "        y_bar = torch.logical_or(y[indices1] != y[indices2], (y[indices1] == -99) * (y[indices2] == -99)) * 1.\n",
    "        loss = self.forward_fun(z[indices1], z[indices2], y_bar)\n",
    "        return loss"
   ]
  },
  {
   "cell_type": "code",
   "execution_count": null,
   "metadata": {},
   "outputs": [],
   "source": [
    "def train_epoch_ssl(model, dataloader, loss_function, optimizer):\n",
    "  \"\"\"Funcion para realizar el entrenamiento de una epoca\n",
    "    Inputs\n",
    "    -------\n",
    "    model : torch.model\n",
    "      modelo a entrenar\n",
    "    dataloader: torch.dataloader\n",
    "      datos con los cuales se entrena\n",
    "    loss_function: torch.loss_fn\n",
    "      funcion de perdida para el entrenamiento(entropia cruzada)\n",
    "    optimizer: torch.optimizer\n",
    "      funcion de optimizacion(adam)\n",
    "    Returns\n",
    "    -------\n",
    "    list:\n",
    "    entrega un tensor con los valores de ouputs entrenamiento, labels y losses\n",
    "  \"\"\"\n",
    "  model.train()\n",
    "  train_outputs = []\n",
    "  train_labels = []\n",
    "  train_losses = []\n",
    "\n",
    "  for data in dataloader:\n",
    "    targets = data[1].cuda()\n",
    "    sample = data[0].float().cuda()\n",
    "    seq_len = data[2]\n",
    "    batch_size = targets.shape[0]\n",
    "\n",
    "    outputs = model([sample[0],sample[1],seq_len])\n",
    "    loss = loss_function(outputs, targets)\n",
    "    loss.backward()\n",
    "    optimizer.step()\n",
    "    optimizer.zero_grad()\n",
    "\n",
    "    train_losses.append(loss.item()*batch_size)\n",
    "    train_outputs.append(outputs.detach())\n",
    "    train_labels.append(targets.detach())\n",
    "\n",
    "  return torch.tensor(train_losses), torch.cat(train_outputs), torch.cat(train_labels)"
   ]
  },
  {
   "cell_type": "code",
   "execution_count": null,
   "metadata": {},
   "outputs": [],
   "source": [
    "def val_epoch_ssl(model, dataloader, loss_function):\n",
    "  \"\"\"Funcion para realizar la validacion de una epoca\n",
    "    Inputs\n",
    "    -------\n",
    "    model : torch.model\n",
    "      modelo a entrenar\n",
    "    dataloader: torch.dataloader\n",
    "      datos con los cuales se entrena\n",
    "    loss_function: torch.loss_fn\n",
    "      funcion de perdida para el entrenamiento(entropia cruzada)\n",
    "    Returns\n",
    "    -------\n",
    "    list:\n",
    "    entrega un tensor con los valores de ouputs validacion, labels y losses\n",
    "  \"\"\"\n",
    "  model.eval()\n",
    "  val_outputs= []\n",
    "  val_labels = []\n",
    "  val_losses = []\n",
    "\n",
    "  with torch.no_grad():\n",
    "    for data in dataloader:\n",
    "      targets = data[1].cuda()\n",
    "      sample = data[0].float().cuda()\n",
    "      seq_len = data[2]\n",
    "      batch_size = targets.shape[0]\n",
    "\n",
    "      outputs = model([sample[0],sample[1],seq_len])\n",
    "\n",
    "      loss = loss_function(outputs, targets)\n",
    "\n",
    "      val_losses.append(loss.item()*batch_size)\n",
    "      val_outputs.append(outputs.detach())\n",
    "      val_labels.append(targets.detach())\n",
    "\n",
    "  return torch.tensor(val_losses), torch.cat(val_outputs), torch.cat(val_labels)"
   ]
  },
  {
   "cell_type": "code",
   "execution_count": null,
   "metadata": {},
   "outputs": [],
   "source": [
    "best_val_loss = np.inf\n",
    "loss_train = []\n",
    "loss_val = []\n",
    "not_improve_epochs = 0\n",
    "tolerance = 5\n",
    "epoch = 0\n",
    "while not_improve_epochs<tolerance:\n",
    "  epoch+=1\n",
    "  print(f\"Epoch {epoch}/{epochs}\")\n",
    "  train_loss, train_out, train_targets = train_epoch_ssl(encoder, train_loader_base, criterion, optimizer)\n",
    "  loss, acc = get_scores(train_loss, train_out, train_targets)\n",
    "  loss_train.append(loss)\n",
    "  print(\"Train Loss: {:.3f}\\tTrain Acc: {:.3f}\".format(loss, acc))\n",
    "\n",
    "  val_loss, val_out, val_targets = val_epoch_ssl(encoder, val_loader_base, criterion)\n",
    "  loss, acc = get_scores(val_loss, val_out, val_targets)\n",
    "  loss_val.append(loss)\n",
    "  print(\"Validation Loss: {:.3f}\\tValidation Acc: {:.3f}\".format(loss, acc))\n",
    "\n",
    "  if loss < best_val_loss :\n",
    "    torch.save(encoder.state_dict(),best_param_net3_path)\n",
    "    best_val_loss = loss\n",
    "    not_improve_epochs=0\n",
    "  else:\n",
    "    not_improve_epochs+=1"
   ]
  },
  {
   "cell_type": "code",
   "execution_count": 344,
   "metadata": {},
   "outputs": [],
   "source": [
    "a = 2"
   ]
  },
  {
   "cell_type": "code",
   "execution_count": null,
   "metadata": {},
   "outputs": [],
   "source": []
  }
 ],
 "metadata": {
  "kernelspec": {
   "display_name": "ssl",
   "language": "python",
   "name": "python3"
  },
  "language_info": {
   "codemirror_mode": {
    "name": "ipython",
    "version": 3
   },
   "file_extension": ".py",
   "mimetype": "text/x-python",
   "name": "python",
   "nbconvert_exporter": "python",
   "pygments_lexer": "ipython3",
   "version": "3.9.16"
  },
  "orig_nbformat": 4
 },
 "nbformat": 4,
 "nbformat_minor": 2
}
